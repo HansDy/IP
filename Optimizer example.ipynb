{
 "cells": [
  {
   "cell_type": "markdown",
   "metadata": {},
   "source": [
    "# Hybrid Transport Flight Optimizer"
   ]
  },
  {
   "cell_type": "markdown",
   "metadata": {},
   "source": [
    "This notebook optimizes the flight of a Hybrid Electric Aircraft on a transport mission. "
   ]
  },
  {
   "cell_type": "code",
   "execution_count": 1,
   "metadata": {},
   "outputs": [],
   "source": [
    "import numpy as np\n",
    "import math\n",
    "\n",
    "from simulator import simulate, Plot\n",
    "import operator\n",
    "from support_funs import GetCd, GetCl, AC\n",
    "from ADRpy import constraintanalysis as ca\n",
    "from ADRpy import atmospheres as at\n",
    "from ADRpy import unitconversions as co\n"
   ]
  },
  {
   "cell_type": "markdown",
   "metadata": {},
   "source": [
    "First, review the aircraft parameters stored in aircraft_params.txt"
   ]
  },
  {
   "cell_type": "code",
   "execution_count": 2,
   "metadata": {},
   "outputs": [
    {
     "name": "stdout",
     "output_type": "stream",
     "text": [
      "emptyMass 13.0\n",
      "S 1.48\n",
      "parasiteDrag 0.036\n",
      "AR 14.6\n",
      "e 0.85\n",
      "maxPitch 8.0\n",
      "maxTurnRate 5.0\n",
      "clSlope 0.1\n",
      "clIntercept 0.25\n",
      "rollingFriction 0.008\n",
      "D 0.35\n",
      "payloadMass 3.0\n",
      "fullTankMass 1.5\n",
      "ICEMass 2.8\n",
      "LCV 43000000.0\n",
      "maxICEThrust 58.8\n",
      "maxICEPower 1864.0\n",
      "batteryCapacity 220.0\n",
      "batteryMass 1.315\n",
      "EMMass 0.33\n",
      "maxEMPower 3000.0\n",
      "maxEMTorque 2.0\n",
      "maxEMrps 210.0\n",
      "EMEff 0.75\n",
      "g 9.81\n",
      "MMair 0.02897\n",
      "R 8.31\n",
      "P0 101325.0\n",
      "rho0 1.29\n",
      "T0 273.0\n",
      "tLapse 0.0065\n",
      "ICEMapRows 7.0\n",
      "ICEMapCols 9.0\n",
      "span 4.648440598738463\n",
      "maxICEeff 0.1063\n",
      "idealICETorque 1.922\n",
      "idealICErps 113.33\n",
      "idealICEPower 1368.6050572380373\n",
      "maxPropEff 0.808\n",
      "optJ 0.909\n"
     ]
    }
   ],
   "source": [
    "for i in AC:\n",
    "    if not type(AC[i]) == np.ndarray:\n",
    "        print(i, AC[i])"
   ]
  },
  {
   "cell_type": "markdown",
   "metadata": {},
   "source": [
    "Generic powerplant data is also contained in the file, but must first be ACjusted to match the aircraft's power requirement. The powerplant sizing is done using the ACRpy library. First, create an atmosphere and design concept object:"
   ]
  },
  {
   "cell_type": "code",
   "execution_count": 7,
   "metadata": {},
   "outputs": [],
   "source": [
    "# atmosphere object - international standard atmosphere\n",
    "isa = at.Atmosphere()\n",
    "\n",
    "# aircraft design concept object creation requires a design-brief\n",
    "designbrief = {'rwyelevation_m': 0, # altitudue of the runway\n",
    "               'groundrun_m': 50, # maximumm allowed take-off distance\n",
    "               'climbrate_fpm': 3 * (60 / 0.3048), # required climb rate that must be achieved\n",
    "               'climbspeed_kias': co.mps2kts(30), # indidcated airspeed requirement for climb\n",
    "               'climbalt_m': 5000, # altitude at which the climb rate must be achieved\n",
    "               'secclimbspd_kias': co.mps2kts(25), # speed at which service ceiling must be reached\n",
    "               'cruisespeed_ktas': co.mps2kts(40), # cruise velocity\n",
    "               'cruisealt_m': 5000, # altitude at which the cruise speed must be achieved\n",
    "               'cruisethrustfact': 1, # ratio of cruise thrust to total thrust\n",
    "               'servceil_m': 5000, # alt at which the max rate of climb drops to 100 ft/min\n",
    "               # dummy values to prevent errors, not needed since no turns are simulated\n",
    "               'turnspeed_ktas': 10,\n",
    "               'stloadfactor': 1.5\n",
    "              }\n",
    "\n",
    "# aircraft design concept object creation requires a design spec\n",
    "design = {'aspectratio': AC[\"AR\"],\n",
    "          'bpr': -3 # bypass ratio; -3 indicates no thrust correction (neglected for the aircraft)\n",
    "         }\n",
    "\n",
    "# aircraft design concept object creation requires a performance estimate\n",
    "designperf = {'CDTO': GetCd(AC[\"maxPitch\"], 0), # take-off coefficient of drag\n",
    "              'CLTO': GetCl(AC[\"maxPitch\"]), # take-off coefficient of lift\n",
    "              'CLmaxTO': GetCl(AC[\"maxPitch\"]), # take-off maximum coefficient of lift\n",
    "              'CLmaxclean': GetCl(AC[\"maxPitch\"]), # max lift coefficient in flight, with (non-existant) flaps retracted\n",
    "              'CDminclean': AC[\"parasiteDrag\"], # min, zero lift drag coefficient\n",
    "              'etaprop': {'take-off': 0.45, 'climb': 0.75, 'cruise': 0.85,\n",
    "                        'turn': 0.85, 'servceil': 0.65}, # propeller efficiencies at different flight stages\n",
    "              }\n",
    "\n",
    "# create design concept object\n",
    "concept = ca.AircraftConcept(designbrief, design, designperf, isa)"
   ]
  },
  {
   "cell_type": "markdown",
   "metadata": {},
   "source": [
    "The required power in different flight phases can be found using this concept object, given a wingloACing and and a take-off weight:"
   ]
  },
  {
   "cell_type": "code",
   "execution_count": 8,
   "metadata": {},
   "outputs": [
    {
     "name": "stdout",
     "output_type": "stream",
     "text": [
      "Take-off power: 2.462163554509147 kW\n",
      "Climb power: 2.7305684394512024 kW\n",
      "Cruise power: 1.5666190814620538 kW\n"
     ]
    }
   ],
   "source": [
    "tow = AC['batteryMass'] + AC['fullTankMass'] + AC['emptyMass'] + AC['payloadMass'] + AC['EMMass'] + AC['ICEMass']\n",
    "wingloading = tow * AC['g'] / AC['S']\n",
    "\n",
    "power = concept.powerrequired(wingloading, tow, feasibleonly=False)\n",
    "\n",
    "toPower = co.hp2kw(power['take-off'])\n",
    "climbPower = co.hp2kw(power['climb'])\n",
    "cruisePower = co.hp2kw(power['cruise'])\n",
    "\n",
    "print('Take-off power:', toPower, \"kW\")\n",
    "print('Climb power:', climbPower, \"kW\")\n",
    "print('Cruise power:', cruisePower, 'kW')\n"
   ]
  },
  {
   "cell_type": "markdown",
   "metadata": {},
   "source": [
    "The highest power requirement is always the cruise, size the powerplant accordingly. Suppose 60% of the power requirement is to be satisfied by the ICE, the remaining 40% by the EM. Sizing is achieved by altering the torque available from each."
   ]
  },
  {
   "cell_type": "code",
   "execution_count": 9,
   "metadata": {},
   "outputs": [
    {
     "name": "stdout",
     "output_type": "stream",
     "text": [
      "The required power for the ICE is 1638.3410636707215 W \n",
      "    The maximum power achieved by the sized engine is 1638.341063670722\n",
      "The required power for the EM is 1092.227375780481 W\n",
      "    The maximum power achieved by the sized motor is 1092.227375780481\n"
     ]
    }
   ],
   "source": [
    "ICEPowerReq = climbPower * 0.6\n",
    "EMPowerReq = climbPower * 0.4\n",
    "\n",
    "ICEPower = 2 * math.pi * AC['ICEMaprps'][-1] * AC['ICEMapTorque'][-1]\n",
    "\n",
    "ICEFactor = 1000 * ICEPowerReq / ICEPower\n",
    "\n",
    "sizedICETorqueList = AC['ICEMapTorque'] * ICEFactor\n",
    "\n",
    "EMPower = 2 * math.pi * AC['maxEMrps'] * AC['maxEMTorque']\n",
    "\n",
    "EMFactor = 1000 * EMPowerReq / EMPower\n",
    "\n",
    "\n",
    "sizedMaxEMTorque =  AC['maxEMTorque'] * EMFactor\n",
    "\n",
    "print(\"The required power for the ICE is\", ICEPowerReq * 1000, \n",
    "      \"W \\n    The maximum power achieved by the sized engine is\", 2 * math.pi * sizedICETorqueList[-1] * AC[\"ICEMaprps\"][-1])\n",
    "print(\"The required power for the EM is\", EMPowerReq * 1000,\n",
    "      \"W\\n    The maximum power achieved by the sized motor is\", 2 * math.pi * sizedMaxEMTorque * AC[\"maxEMrps\"])"
   ]
  },
  {
   "cell_type": "markdown",
   "metadata": {},
   "source": [
    "Save the sized powerplant data in the dictionary, with 10% extra power since the aircraft is about to get heavier"
   ]
  },
  {
   "cell_type": "code",
   "execution_count": 10,
   "metadata": {},
   "outputs": [],
   "source": [
    "AC[\"ICEMapTorque\"] = sizedICETorqueList * 1.1\n",
    "AC[\"maxEMTorque\"] = sizedMaxEMTorque * 1.1"
   ]
  },
  {
   "cell_type": "markdown",
   "metadata": {},
   "source": [
    "The mass of the powerplant must be adjusted as well. Assumes that increase in power and mass are directly proportional."
   ]
  },
  {
   "cell_type": "code",
   "execution_count": 11,
   "metadata": {},
   "outputs": [
    {
     "name": "stdout",
     "output_type": "stream",
     "text": [
      "New engine mass: 1.609082470003131\n",
      "New motor mass: 0.1365833745852342\n"
     ]
    }
   ],
   "source": [
    "AC[\"ICEMass\"] *= ICEFactor\n",
    "AC[\"EMMass\"] *= EMFactor\n",
    "\n",
    "print(\"New engine mass:\", AC[\"ICEMass\"])\n",
    "print(\"New motor mass:\", AC[\"EMMass\"])"
   ]
  },
  {
   "cell_type": "code",
   "execution_count": null,
   "metadata": {},
   "outputs": [],
   "source": []
  }
 ],
 "metadata": {
  "kernelspec": {
   "display_name": "Python 3",
   "language": "python",
   "name": "python3"
  },
  "language_info": {
   "codemirror_mode": {
    "name": "ipython",
    "version": 3
   },
   "file_extension": ".py",
   "mimetype": "text/x-python",
   "name": "python",
   "nbconvert_exporter": "python",
   "pygments_lexer": "ipython3",
   "version": "3.7.6"
  }
 },
 "nbformat": 4,
 "nbformat_minor": 4
}
